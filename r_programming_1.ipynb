{
  "cells": [
    {
      "cell_type": "code",
      "execution_count": null,
      "metadata": {
        "id": "zqk6D4b7qhKf"
      },
      "outputs": [],
      "source": [
        "# Run this cell once in your Python notebook to enable R code blocks\n",
        "%load_ext rpy2.ipython\n"
      ]
    },
    {
      "cell_type": "code",
      "execution_count": null,
      "metadata": {
        "colab": {
          "base_uri": "https://localhost:8080/",
          "height": 642
        },
        "id": "0t4sCfFBrY7u",
        "outputId": "d74480fc-1e8c-4bbe-d790-a0e605721a0b"
      },
      "outputs": [
        {
          "data": {
            "text/plain": [
              "Installing package into ‘/usr/local/lib/R/site-library’\n",
              "(as ‘lib’ is unspecified)\n",
              "also installing the dependencies ‘float’, ‘RcppProgress’, ‘arules’, ‘proxy’, ‘registry’, ‘irlba’, ‘recosystem’, ‘matrixStats’\n",
              "\n",
              "trying URL 'http://cran.us.r-project.org/src/contrib/float_0.3-3.tar.gz'\n",
              "trying URL 'http://cran.us.r-project.org/src/contrib/RcppProgress_0.4.2.tar.gz'\n",
              "trying URL 'http://cran.us.r-project.org/src/contrib/arules_1.7-10.tar.gz'\n",
              "trying URL 'http://cran.us.r-project.org/src/contrib/proxy_0.4-27.tar.gz'\n",
              "trying URL 'http://cran.us.r-project.org/src/contrib/registry_0.5-1.tar.gz'\n",
              "trying URL 'http://cran.us.r-project.org/src/contrib/irlba_2.3.5.1.tar.gz'\n",
              "trying URL 'http://cran.us.r-project.org/src/contrib/recosystem_0.5.1.tar.gz'\n",
              "trying URL 'http://cran.us.r-project.org/src/contrib/matrixStats_1.5.0.tar.gz'\n",
              "trying URL 'http://cran.us.r-project.org/src/contrib/recommenderlab_1.0.6.tar.gz'\n",
              "\n",
              "The downloaded source packages are in\n",
              "\t‘/tmp/RtmpXAJJ0p/downloaded_packages’\n",
              "Installing package into ‘/usr/local/lib/R/site-library’\n",
              "(as ‘lib’ is unspecified)\n",
              "trying URL 'http://cran.us.r-project.org/src/contrib/data.table_1.17.2.tar.gz'\n",
              "Content type 'application/x-gzip' length 5839559 bytes (5.6 MB)\n",
              "==================================================\n",
              "downloaded 5.6 MB\n",
              "\n",
              "\n",
              "The downloaded source packages are in\n",
              "\t‘/tmp/RtmpXAJJ0p/downloaded_packages’\n",
              "Installing package into ‘/usr/local/lib/R/site-library’\n",
              "(as ‘lib’ is unspecified)\n",
              "trying URL 'http://cran.us.r-project.org/src/contrib/tidyverse_2.0.0.tar.gz'\n",
              "Content type 'application/x-gzip' length 704618 bytes (688 KB)\n",
              "==================================================\n",
              "downloaded 688 KB\n",
              "\n",
              "\n",
              "The downloaded source packages are in\n",
              "\t‘/tmp/RtmpXAJJ0p/downloaded_packages’\n"
            ]
          },
          "metadata": {},
          "output_type": "display_data"
        }
      ],
      "source": [
        "%%R\n",
        "install.packages(\"recommenderlab\", repos='http://cran.us.r-project.org')\n",
        "install.packages(\"data.table\", repos='http://cran.us.r-project.org')\n",
        "install.packages(\"tidyverse\", repos='http://cran.us.r-project.org')\n"
      ]
    },
    {
      "cell_type": "code",
      "execution_count": null,
      "metadata": {
        "colab": {
          "background_save": true,
          "base_uri": "https://localhost:8080/"
        },
        "id": "_wDBvl9mtji_",
        "outputId": "1269c7b4-9714-443a-e9e7-4847daeb2f7e"
      },
      "outputs": [
        {
          "name": "stdout",
          "output_type": "stream",
          "text": [
            "── Attaching core tidyverse packages ──────────────────────── tidyverse 2.0.0 ──\n",
            "✔ dplyr     1.1.4     ✔ readr     2.1.5\n",
            "✔ forcats   1.0.0     ✔ stringr   1.5.1\n",
            "✔ ggplot2   3.5.2     ✔ tibble    3.2.1\n",
            "✔ lubridate 1.9.4     ✔ tidyr     1.3.1\n",
            "✔ purrr     1.0.4     \n",
            "── Conflicts ────────────────────────────────────────── tidyverse_conflicts() ──\n",
            "✖ dplyr::between()     masks data.table::between()\n",
            "✖ tidyr::expand()      masks Matrix::expand()\n",
            "✖ dplyr::filter()      masks stats::filter()\n",
            "✖ dplyr::first()       masks data.table::first()\n",
            "✖ lubridate::hour()    masks data.table::hour()\n",
            "✖ lubridate::isoweek() masks data.table::isoweek()\n",
            "✖ dplyr::lag()         masks stats::lag()\n",
            "✖ dplyr::last()        masks data.table::last()\n",
            "✖ lubridate::mday()    masks data.table::mday()\n",
            "✖ lubridate::minute()  masks data.table::minute()\n",
            "✖ lubridate::month()   masks data.table::month()\n",
            "✖ tidyr::pack()        masks Matrix::pack()\n",
            "✖ lubridate::quarter() masks data.table::quarter()\n",
            "✖ dplyr::recode()      masks arules::recode()\n",
            "✖ lubridate::second()  masks data.table::second()\n",
            "✖ purrr::transpose()   masks data.table::transpose()\n",
            "✖ tidyr::unpack()      masks Matrix::unpack()\n",
            "✖ lubridate::wday()    masks data.table::wday()\n",
            "✖ lubridate::week()    masks data.table::week()\n",
            "✖ lubridate::yday()    masks data.table::yday()\n",
            "✖ lubridate::year()    masks data.table::year()\n",
            "ℹ Use the conflicted package (<http://conflicted.r-lib.org/>) to force all conflicts to become errors\n",
            "   userId movieId rating  timestamp\n",
            "    <int>   <int>  <num>      <int>\n",
            "1:      1      16    4.0 1217897793\n",
            "2:      1      24    1.5 1217895807\n",
            "3:      1      32    4.0 1217896246\n"
          ]
        },
        {
          "data": {
            "text/plain": [
              "Loading required package: Matrix\n",
              "Loading required package: arules\n",
              "\n",
              "Attaching package: ‘arules’\n",
              "\n",
              "The following objects are masked from ‘package:base’:\n",
              "\n",
              "    abbreviate, write\n",
              "\n",
              "Loading required package: proxy\n",
              "\n",
              "Attaching package: ‘proxy’\n",
              "\n",
              "The following object is masked from ‘package:Matrix’:\n",
              "\n",
              "    as.matrix\n",
              "\n",
              "The following objects are masked from ‘package:stats’:\n",
              "\n",
              "    as.dist, dist\n",
              "\n",
              "The following object is masked from ‘package:base’:\n",
              "\n",
              "    as.matrix\n",
              "\n",
              "Registered S3 methods overwritten by 'registry':\n",
              "  method               from \n",
              "  print.registry_field proxy\n",
              "  print.registry_entry proxy\n",
              "data.table 1.17.2 using 1 threads (see ?getDTthreads).  Latest news: r-datatable.com\n"
            ]
          },
          "metadata": {},
          "output_type": "display_data"
        }
      ],
      "source": [
        "%%R\n",
        "library(recommenderlab)\n",
        "library(data.table)\n",
        "library(tidyverse)\n",
        "\n",
        "movies <- fread(\"/content/movies.csv\")\n",
        "ratings <- fread(\"/content/ratings.csv\")\n",
        "\n",
        "head(movies, 3)\n",
        "head(ratings, 3)\n"
      ]
    },
    {
      "cell_type": "code",
      "execution_count": null,
      "metadata": {
        "colab": {
          "base_uri": "https://localhost:8080/"
        },
        "id": "rEi1FtMMuQtk",
        "outputId": "066b2e66-fe0e-4d7f-a715-b1063e9b46e2"
      },
      "outputs": [
        {
          "name": "stdout",
          "output_type": "stream",
          "text": [
            "668 x 10323 rating matrix of class ‘realRatingMatrix’ with 105335 ratings.\n"
          ]
        }
      ],
      "source": [
        "%%R\n",
        "library(dplyr)  # make sure dplyr is loaded for group_by and summarise\n",
        "\n",
        "movie_ratings <- merge(ratings, movies, by = \"movieId\")\n",
        "movie_ratings <- movie_ratings[, .(userId, title, rating)]\n",
        "\n",
        "# Aggregate duplicate ratings by averaging\n",
        "movie_ratings_unique <- movie_ratings %>%\n",
        "  group_by(userId, title) %>%\n",
        "  summarise(rating = mean(rating), .groups = \"drop\")\n",
        "\n",
        "# Create rating matrix\n",
        "rating_matrix <- movie_ratings_unique %>%\n",
        "  pivot_wider(names_from = title, values_from = rating) %>%\n",
        "  column_to_rownames(\"userId\") %>%\n",
        "  as.matrix()\n",
        "\n",
        "rating_matrix <- as(rating_matrix, \"realRatingMatrix\")\n",
        "\n",
        "print(rating_matrix)\n"
      ]
    },
    {
      "cell_type": "code",
      "execution_count": null,
      "metadata": {
        "colab": {
          "base_uri": "https://localhost:8080/"
        },
        "id": "M9izEccTuaFl",
        "outputId": "53deee9c-9021-44eb-ce0c-7c147b2f14e0"
      },
      "outputs": [
        {
          "name": "stdout",
          "output_type": "stream",
          "text": [
            "Recommender of type ‘UBCF’ for ‘realRatingMatrix’ \n",
            "learned using 534 users.\n",
            "Recommender of type ‘IBCF’ for ‘realRatingMatrix’ \n",
            "learned using 534 users.\n"
          ]
        }
      ],
      "source": [
        "%%R\n",
        "set.seed(123)  # For reproducibility\n",
        "\n",
        "# Create evaluation scheme: 80% train, given 5 ratings per user for testing\n",
        "eval_scheme <- evaluationScheme(rating_matrix, method = \"split\", train = 0.8, given = 5, goodRating = 4)\n",
        "\n",
        "# Train User-Based Collaborative Filtering (UBCF) model\n",
        "model_UBCF <- Recommender(getData(eval_scheme, \"train\"), method = \"UBCF\")\n",
        "\n",
        "# Train Item-Based Collaborative Filtering (IBCF) model\n",
        "model_IBCF <- Recommender(getData(eval_scheme, \"train\"), method = \"IBCF\")\n",
        "\n",
        "print(model_UBCF)\n",
        "print(model_IBCF)\n"
      ]
    },
    {
      "cell_type": "code",
      "execution_count": null,
      "metadata": {
        "colab": {
          "base_uri": "https://localhost:8080/"
        },
        "id": "UVCuom4dw96s",
        "outputId": "06922d0d-f603-4224-9c01-4e2774b9aef5"
      },
      "outputs": [
        {
          "name": "stdout",
          "output_type": "stream",
          "text": [
            "[1] \"User-based CF Error:\"\n",
            "     RMSE       MSE       MAE \n",
            "1.1683566 1.3650572 0.9070177 \n",
            "[1] \"Item-based CF Error:\"\n",
            "     RMSE       MSE       MAE \n",
            "1.2200969 1.4886364 0.9090909 \n"
          ]
        }
      ],
      "source": [
        "%%R\n",
        "# Predict ratings for the \"known\" part of test users\n",
        "pred_UBCF <- predict(model_UBCF, getData(eval_scheme, \"known\"), type = \"ratings\")\n",
        "pred_IBCF <- predict(model_IBCF, getData(eval_scheme, \"known\"), type = \"ratings\")\n",
        "\n",
        "# Calculate prediction accuracy using the unknown part\n",
        "error_UBCF <- calcPredictionAccuracy(pred_UBCF, getData(eval_scheme, \"unknown\"))\n",
        "error_IBCF <- calcPredictionAccuracy(pred_IBCF, getData(eval_scheme, \"unknown\"))\n",
        "\n",
        "print(\"User-based CF Error:\")\n",
        "print(error_UBCF)\n",
        "\n",
        "print(\"Item-based CF Error:\")\n",
        "print(error_IBCF)\n"
      ]
    },
    {
      "cell_type": "code",
      "execution_count": null,
      "metadata": {
        "colab": {
          "base_uri": "https://localhost:8080/"
        },
        "id": "V7r2W8OMx-ik",
        "outputId": "87a1a506-ae7d-43e9-a873-7782717e3353"
      },
      "outputs": [
        {
          "name": "stdout",
          "output_type": "stream",
          "text": [
            "$`0`\n",
            "[1] \"Bossa Nova (2000)\"       \"Bonnie and Clyde (1967)\"\n",
            "[3] \"True Romance (1993)\"     \"Happy Gilmore (1996)\"   \n",
            "[5] \"Jerry Maguire (1996)\"   \n",
            "\n"
          ]
        }
      ],
      "source": [
        "%%R\n",
        "# Recommend top 5 movies for user 1 based on UBCF model\n",
        "user_1_recommendations <- predict(model_UBCF, rating_matrix[2], n = 5)\n",
        "as(user_1_recommendations, \"list\")\n"
      ]
    },
    {
      "cell_type": "code",
      "execution_count": null,
      "metadata": {
        "colab": {
          "base_uri": "https://localhost:8080/",
          "height": 364
        },
        "id": "QiqDqueMHsSu",
        "outputId": "eacefec4-1714-435f-f8f1-8cef70d7a363"
      },
      "outputs": [
        {
          "data": {
            "text/plain": [
              "Installing package into ‘/usr/local/lib/R/site-library’\n",
              "(as ‘lib’ is unspecified)\n",
              "trying URL 'http://cran.us.r-project.org/src/contrib/ggplot2_3.5.2.tar.gz'\n",
              "Content type 'application/x-gzip' length 3580451 bytes (3.4 MB)\n",
              "==================================================\n",
              "downloaded 3.4 MB\n",
              "\n",
              "\n",
              "The downloaded source packages are in\n",
              "\t‘/tmp/RtmpB6ZHgE/downloaded_packages’\n",
              "Installing package into ‘/usr/local/lib/R/site-library’\n",
              "(as ‘lib’ is unspecified)\n",
              "trying URL 'http://cran.us.r-project.org/src/contrib/forcats_1.0.0.tar.gz'\n",
              "Content type 'application/x-gzip' length 294183 bytes (287 KB)\n",
              "==================================================\n",
              "downloaded 287 KB\n",
              "\n",
              "\n",
              "The downloaded source packages are in\n",
              "\t‘/tmp/RtmpB6ZHgE/downloaded_packages’\n"
            ]
          },
          "metadata": {},
          "output_type": "display_data"
        }
      ],
      "source": [
        "%%R\n",
        "install.packages(\"ggplot2\", repos='http://cran.us.r-project.org')\n",
        "install.packages(\"forcats\", repos='http://cran.us.r-project.org')\n"
      ]
    },
    {
      "cell_type": "code",
      "execution_count": null,
      "metadata": {
        "colab": {
          "base_uri": "https://localhost:8080/",
          "height": 497
        },
        "id": "_O4-JcD1NpW7",
        "outputId": "abacbdad-59ec-43cd-c2db-6f56073939d4"
      },
      "outputs": [
        {
          "data": {
            "image/png": "[encoded data removed]",
            "text/plain": [
              "<IPython.core.display.Image object>"
            ]
          },
          "metadata": {},
          "output_type": "display_data"
        }
      ],
      "source": [
        "%%R\n",
        "library(ggplot2)\n",
        "\n",
        "movie_counts <- colCounts(rating_matrix)\n",
        "df <- data.frame(movie = names(movie_counts), ratings = movie_counts)\n",
        "\n",
        "ggplot(df %>% top_n(20, wt = ratings), aes(x = reorder(movie, ratings), y = ratings)) +\n",
        "  geom_bar(stat = \"identity\", fill = \"steelblue\") +\n",
        "  coord_flip() +\n",
        "  labs(title = \"Top 20 Movies by Number of Ratings\", x = \"Movie\", y = \"Number of Ratings\")"
      ]
    }
  ],
  "metadata": {
    "accelerator": "GPU",
    "colab": {
      "gpuType": "T4",
      "provenance": []
    },
    "kernelspec": {
      "display_name": "Python 3",
      "name": "python3"
    },
    "language_info": {
      "name": "python"
    }
  },
  "nbformat": 4,
  "nbformat_minor": 0
}